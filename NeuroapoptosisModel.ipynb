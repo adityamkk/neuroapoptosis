{
  "cells": [
    {
      "cell_type": "markdown",
      "metadata": {
        "id": "view-in-github",
        "colab_type": "text"
      },
      "source": [
        "<a href=\"https://colab.research.google.com/github/adityamkk/neuroapoptosis/blob/main/NeuroapoptosisModel.ipynb\" target=\"_parent\"><img src=\"https://colab.research.google.com/assets/colab-badge.svg\" alt=\"Open In Colab\"/></a>"
      ]
    },
    {
      "cell_type": "markdown",
      "metadata": {
        "id": "CKLmuS7Yn-Ax"
      },
      "source": [
        "# Neuroapoptosis Model with a CNN Classifier - Bodies vs. Nonbodies"
      ]
    },
    {
      "cell_type": "markdown",
      "metadata": {
        "id": "lOZ5CTXUT8J_"
      },
      "source": [
        "## Dependencies"
      ]
    },
    {
      "cell_type": "code",
      "execution_count": null,
      "metadata": {
        "colab": {
          "base_uri": "https://localhost:8080/"
        },
        "id": "VoK3Iu3xN5gv",
        "outputId": "f98ebc27-b0e2-44b4-ef8f-27547a77291f"
      },
      "outputs": [
        {
          "output_type": "stream",
          "name": "stdout",
          "text": [
            "\u001b[?25l     \u001b[90m━━━━━━━━━━━━━━━━━━━━━━━━━━━━━━━━━━━━━━━━\u001b[0m \u001b[32m0.0/176.1 kB\u001b[0m \u001b[31m?\u001b[0m eta \u001b[36m-:--:--\u001b[0m\r\u001b[2K     \u001b[91m━━━━━━━━━━━━━━━━\u001b[0m\u001b[90m╺\u001b[0m\u001b[90m━━━━━━━━━━━━━━━━━━━━━━━\u001b[0m \u001b[32m71.7/176.1 kB\u001b[0m \u001b[31m1.9 MB/s\u001b[0m eta \u001b[36m0:00:01\u001b[0m\r\u001b[2K     \u001b[90m━━━━━━━━━━━━━━━━━━━━━━━━━━━━━━━━━━━━━━━\u001b[0m \u001b[32m176.1/176.1 kB\u001b[0m \u001b[31m3.1 MB/s\u001b[0m eta \u001b[36m0:00:00\u001b[0m\n",
            "\u001b[?25h"
          ]
        }
      ],
      "source": [
        "pip install -q -U keras-tuner"
      ]
    },
    {
      "cell_type": "markdown",
      "metadata": {
        "id": "LweYlOCGM8ep"
      },
      "source": [
        "For accessing files and filepaths within the drive"
      ]
    },
    {
      "cell_type": "code",
      "execution_count": null,
      "metadata": {
        "id": "Qnfh2y2MM6xJ"
      },
      "outputs": [],
      "source": [
        "import os;\n",
        "from pathlib import Path;"
      ]
    },
    {
      "cell_type": "markdown",
      "metadata": {
        "id": "83xqqkrXNB0G"
      },
      "source": [
        "Data Manipulation and Plotting"
      ]
    },
    {
      "cell_type": "code",
      "execution_count": null,
      "metadata": {
        "id": "wKolUH9YNBXD"
      },
      "outputs": [],
      "source": [
        "import numpy as np;\n",
        "import pandas as pd;\n",
        "import math;\n",
        "import matplotlib.pyplot as plt;"
      ]
    },
    {
      "cell_type": "markdown",
      "metadata": {
        "id": "c3nVW-hUNIqP"
      },
      "source": [
        "Miscellaneous"
      ]
    },
    {
      "cell_type": "code",
      "execution_count": null,
      "metadata": {
        "id": "8K1Yvs9cNH_W"
      },
      "outputs": [],
      "source": [
        "import re;\n",
        "import random;\n",
        "import copy;"
      ]
    },
    {
      "cell_type": "markdown",
      "metadata": {
        "id": "XawQL69CNQOl"
      },
      "source": [
        "Tensorflow and Keras"
      ]
    },
    {
      "cell_type": "code",
      "execution_count": null,
      "metadata": {
        "id": "d3ZKVYoXNPnn"
      },
      "outputs": [],
      "source": [
        "# %tensorflow_version 2.x\n",
        "#https://github.com/sudhir2016/Google-Colab-3/blob/master/VGG16.ipynb\n",
        "\n",
        "import tensorflow as tf;\n",
        "from tensorflow import keras;\n",
        "from keras import layers, models;\n",
        "import keras_tuner as kt;"
      ]
    },
    {
      "cell_type": "markdown",
      "metadata": {
        "id": "4AsIX1TsNX-S"
      },
      "source": [
        "Keras Imports"
      ]
    },
    {
      "cell_type": "code",
      "execution_count": null,
      "metadata": {
        "id": "dt8IAaQiNUl2"
      },
      "outputs": [],
      "source": [
        "from keras.models import Model;\n",
        "from keras.optimizers import Adam;\n",
        "from keras import regularizers;\n",
        "from keras.layers import Activation;\n",
        "from keras.callbacks import ModelCheckpoint, EarlyStopping;\n",
        "from keras.layers import Dense, Dropout, Flatten;\n",
        "from keras.preprocessing.image import ImageDataGenerator;\n",
        "from keras.applications.vgg16 import preprocess_input;\n",
        "from keras.applications.vgg16 import decode_predictions;\n",
        "from keras.applications.vgg16 import VGG16;\n",
        "from keras.utils import to_categorical;"
      ]
    },
    {
      "cell_type": "markdown",
      "metadata": {
        "id": "CDqVESbfNgM2"
      },
      "source": [
        "SKlearn for the PCA and SVM"
      ]
    },
    {
      "cell_type": "code",
      "execution_count": null,
      "metadata": {
        "id": "uRgUVH9xNeSm"
      },
      "outputs": [],
      "source": [
        "from sklearn.svm import LinearSVC;\n",
        "from sklearn.pipeline import make_pipeline;\n",
        "from sklearn.preprocessing import StandardScaler;\n",
        "from sklearn.datasets import make_classification;\n",
        "from scipy.stats import loguniform\n",
        "from sklearn.datasets import fetch_lfw_people\n",
        "from sklearn.decomposition import PCA\n",
        "from sklearn.metrics import ConfusionMatrixDisplay, classification_report\n",
        "from sklearn.model_selection import RandomizedSearchCV, train_test_split\n",
        "from sklearn.preprocessing import StandardScaler\n",
        "from sklearn.svm import SVC"
      ]
    },
    {
      "cell_type": "markdown",
      "metadata": {
        "id": "bZfS4ioHNopE"
      },
      "source": [
        "Google Drive and Google Spreadsheets"
      ]
    },
    {
      "cell_type": "code",
      "execution_count": null,
      "metadata": {
        "colab": {
          "base_uri": "https://localhost:8080/"
        },
        "id": "-cBOfM6xqDHv",
        "outputId": "d7f35a91-8d21-49db-886a-6a2524ffa4a1"
      },
      "outputs": [
        {
          "output_type": "stream",
          "name": "stdout",
          "text": [
            "Mounted at /content/drive\n",
            "2.12.0\n",
            "2.12.0\n"
          ]
        }
      ],
      "source": [
        "from google.colab import drive;\n",
        "drive.mount('/content/drive');\n",
        "print(tf.__version__);\n",
        "print(keras.__version__);\n",
        "\n",
        "from google.colab import auth;\n",
        "auth.authenticate_user();\n",
        "\n",
        "import gspread\n",
        "from google.auth import default\n",
        "creds, _ = default()\n",
        "\n",
        "gc = gspread.authorize(creds)"
      ]
    },
    {
      "cell_type": "markdown",
      "metadata": {
        "id": "7dS4ltJ46eUR"
      },
      "source": [
        "## Data"
      ]
    },
    {
      "cell_type": "markdown",
      "metadata": {
        "id": "FoAHRxapOCcY"
      },
      "source": [
        "Bodies and Non-bodies images"
      ]
    },
    {
      "cell_type": "code",
      "execution_count": null,
      "metadata": {
        "id": "8fA9L_-YOMH1"
      },
      "outputs": [],
      "source": [
        "# Bodies images\n",
        "bodies_ds = [];\n",
        "bodies = [];\n",
        "# Non-bodies images\n",
        "nonbodies_ds = [];\n",
        "nonbodies = [];"
      ]
    },
    {
      "cell_type": "markdown",
      "metadata": {
        "id": "eEd0Ejli7EZY"
      },
      "source": [
        "Get images from folder"
      ]
    },
    {
      "cell_type": "code",
      "execution_count": null,
      "metadata": {
        "id": "jGzTWplU7ItE"
      },
      "outputs": [],
      "source": [
        "path = '/content/drive/MyDrive/Colab Notebooks/BodyClassifier/Stimuli/';"
      ]
    },
    {
      "cell_type": "markdown",
      "metadata": {
        "id": "RFWOc5OpzLHx"
      },
      "source": [
        "Separate the files into Bodies or Non-bodies"
      ]
    },
    {
      "cell_type": "code",
      "execution_count": null,
      "metadata": {
        "id": "wyYSv8VhO1e5"
      },
      "outputs": [],
      "source": [
        "for filename in os.listdir(path) :\n",
        "  f = os.path.join(path, filename);\n",
        "  # Human or monkey bodies\n",
        "  regex = re.compile('(humbod)|(monbod)');\n",
        "  # 224 x 224 images\n",
        "  image = keras.preprocessing.image.load_img(f, target_size=(224,224));\n",
        "  image = tf.keras.preprocessing.image.img_to_array(image);\n",
        "  if(regex.match(filename)):\n",
        "    # Bodies are either human bodies or monkey bodies...\n",
        "    bodies_ds.append(image);\n",
        "    bodies.append(image);\n",
        "  else:\n",
        "    # And everything else is a non-body\n",
        "    nonbodies_ds.append(image);\n",
        "    nonbodies.append(image);"
      ]
    },
    {
      "cell_type": "markdown",
      "metadata": {
        "id": "kFHFlSMWU17R"
      },
      "source": [
        "Create the Train and Test data and labels"
      ]
    },
    {
      "cell_type": "code",
      "execution_count": null,
      "metadata": {
        "id": "j7_InmwyU08E"
      },
      "outputs": [],
      "source": [
        "# Training Data\n",
        "train_ds = [];\n",
        "validation_ds = [];\n",
        "# Training Labels\n",
        "train_labels = [];\n",
        "validation_labels = [];\n",
        "# Testing Data\n",
        "test_ds = [];\n",
        "# Testing Labels\n",
        "test_labels = [];"
      ]
    },
    {
      "cell_type": "code",
      "source": [
        "print(\"Bodies: \" + str(len(bodies_ds)));\n",
        "print(\"non-Bodies: \" + str(len(nonbodies_ds)));"
      ],
      "metadata": {
        "colab": {
          "base_uri": "https://localhost:8080/"
        },
        "id": "2JQw_2T0VgVa",
        "outputId": "119e2cfb-edc4-4043-9eba-19d8bb281d23"
      },
      "execution_count": null,
      "outputs": [
        {
          "output_type": "stream",
          "name": "stdout",
          "text": [
            "Bodies: 20\n",
            "non-Bodies: 89\n"
          ]
        }
      ]
    },
    {
      "cell_type": "markdown",
      "metadata": {
        "id": "yDatecNPzmoB"
      },
      "source": [
        "Designate *10*% of the data to be test data (5 from each set) and *3* from each set to be validation data for training"
      ]
    },
    {
      "cell_type": "code",
      "execution_count": null,
      "metadata": {
        "id": "Dxt2-vnIX_OC"
      },
      "outputs": [],
      "source": [
        "for i in range(5):\n",
        "  test_ds.append(bodies_ds.pop(random.randint(0,len(bodies_ds)-1)));\n",
        "  test_labels.append(1);\n",
        "for i in range(4):\n",
        "  validation_ds.append(bodies_ds.pop(random.randint(0,len(bodies_ds)-1)));\n",
        "  validation_labels.append(1);\n",
        "\n",
        "for i in range(5):\n",
        "  test_ds.append(nonbodies_ds.pop(random.randint(0,len(nonbodies_ds)-1)));\n",
        "  test_labels.append(0);\n",
        "for i in range(4):\n",
        "  validation_ds.append(nonbodies_ds.pop(random.randint(0,len(nonbodies_ds)-1)));\n",
        "  validation_labels.append(0);"
      ]
    },
    {
      "cell_type": "markdown",
      "metadata": {
        "id": "d5rLFs3uzr-K"
      },
      "source": [
        "...and the remaining *90*% to be train data"
      ]
    },
    {
      "cell_type": "code",
      "execution_count": null,
      "metadata": {
        "id": "QykKGYj7VJ4V"
      },
      "outputs": [],
      "source": [
        "for img in bodies_ds:\n",
        "  train_ds.append(img);\n",
        "  train_labels.append(1);\n",
        "for img in nonbodies_ds:\n",
        "  train_ds.append(img);\n",
        "  train_labels.append(0);"
      ]
    },
    {
      "cell_type": "markdown",
      "metadata": {
        "id": "Mit0l5WVzwLG"
      },
      "source": [
        "Format the training and testing images to 224x224 pixel images"
      ]
    },
    {
      "cell_type": "code",
      "execution_count": null,
      "metadata": {
        "id": "MXV5zZ55n5ne"
      },
      "outputs": [],
      "source": [
        "# Resize images to be 224 x 224\n",
        "train_ds = tf.image.resize(train_ds, (224,224));\n",
        "validation_ds = tf.image.resize(validation_ds, (224,224));\n",
        "test_ds = tf.image.resize(test_ds, (224,224));"
      ]
    },
    {
      "cell_type": "markdown",
      "metadata": {
        "id": "B8UBm6-pLets"
      },
      "source": [
        "Convert the training dataset from a regular array to a numpy array"
      ]
    },
    {
      "cell_type": "code",
      "execution_count": null,
      "metadata": {
        "id": "ymIuFHgLaIaR"
      },
      "outputs": [],
      "source": [
        "# Convert the train_labels into a numpy array for training the model\n",
        "train_labels = np.asarray(train_labels);\n",
        "validation_labels = np.asarray(validation_labels)\n",
        "test_labels = np.asarray(test_labels);"
      ]
    },
    {
      "cell_type": "markdown",
      "metadata": {
        "id": "T5neC5I0Lurk"
      },
      "source": [
        "Preprocess the data according to tensorflow specifications"
      ]
    },
    {
      "cell_type": "code",
      "execution_count": null,
      "metadata": {
        "id": "ExS_whUhLXAZ"
      },
      "outputs": [],
      "source": [
        "# Preprocess the input data for the model\n",
        "train_ds = preprocess_input(train_ds);\n",
        "validation_ds = preprocess_input(validation_ds);\n",
        "test_ds = preprocess_input(test_ds);"
      ]
    },
    {
      "cell_type": "markdown",
      "metadata": {
        "id": "x8B1JBMc6i8T"
      },
      "source": [
        "## Model Construction and Training"
      ]
    },
    {
      "cell_type": "markdown",
      "metadata": {
        "id": "vpH0dilFUP_j"
      },
      "source": [
        "Initiate a new VGG16 model"
      ]
    },
    {
      "cell_type": "code",
      "execution_count": null,
      "metadata": {
        "colab": {
          "base_uri": "https://localhost:8080/"
        },
        "id": "qU8y1FMmO-Ba",
        "outputId": "de140c29-3454-4f3d-b91a-4b1ca6715aff"
      },
      "outputs": [
        {
          "output_type": "stream",
          "name": "stdout",
          "text": [
            "Downloading data from https://storage.googleapis.com/tensorflow/keras-applications/vgg16/vgg16_weights_tf_dim_ordering_tf_kernels_notop.h5\n",
            "58889256/58889256 [==============================] - 2s 0us/step\n"
          ]
        }
      ],
      "source": [
        "# Obtain VGG16 weights from imagenet, and set the input shape to the shape of the image\n",
        "base_model = VGG16(weights=\"imagenet\", include_top=False, input_shape=train_ds[0].shape);\n",
        "# Make sure the VGG16 model is not trainable\n",
        "base_model.trainable = False;"
      ]
    },
    {
      "cell_type": "markdown",
      "metadata": {
        "id": "yhVA84HnJr-J"
      },
      "source": [
        "Instantiate a new Flatten Layer"
      ]
    },
    {
      "cell_type": "code",
      "execution_count": null,
      "metadata": {
        "id": "wN3l_8ewiSpI"
      },
      "outputs": [],
      "source": [
        "# Flatten Layer\n",
        "flatten_layer = layers.Flatten();"
      ]
    },
    {
      "cell_type": "markdown",
      "metadata": {
        "id": "xRZZlzfpJxUY"
      },
      "source": [
        "Pass images through base model and the flatten layer to obtain 1D representations of outputs of VGG16"
      ]
    },
    {
      "cell_type": "code",
      "execution_count": null,
      "metadata": {
        "id": "uWapFYFoDZn-"
      },
      "outputs": [],
      "source": [
        "train_pca_ds_init = [];\n",
        "for image in train_ds:\n",
        "  # Reshape the input tensor to match the requirements of the VGG16 model\n",
        "  input_tensor = tf.reshape(image, (1, 224, 224, 3));\n",
        "  # Get the output of the VGG16 model\n",
        "  base_output = base_model.call(input_tensor);\n",
        "  # flatten the output into 1D space\n",
        "  flatten_output = flatten_layer.call(base_output);\n",
        "  train_pca_ds_init.append(tf.reshape(flatten_output, (tf.shape(flatten_output)[1])))"
      ]
    },
    {
      "cell_type": "code",
      "source": [
        "validation_pca_ds_init = [];\n",
        "for image in validation_ds:\n",
        "  # Reshape the input tensor to match the requirements of the VGG16 model\n",
        "  input_tensor = tf.reshape(image, (1, 224, 224, 3));\n",
        "  # Get the output of the VGG16 model\n",
        "  base_output = base_model.call(input_tensor);\n",
        "  # flatten the output into 1D space\n",
        "  flatten_output = flatten_layer.call(base_output);\n",
        "  validation_pca_ds_init.append(tf.reshape(flatten_output, (tf.shape(flatten_output)[1])))"
      ],
      "metadata": {
        "id": "-qHUsHjOXv07"
      },
      "execution_count": null,
      "outputs": []
    },
    {
      "cell_type": "code",
      "source": [
        "eigenvalues = PCA(svd_solver=\"randomized\").fit(train_pca_ds_init).explained_variance_\n",
        "total_variance = 0.\n",
        "for e in eigenvalues:\n",
        "  total_variance += e\n",
        "\n",
        "category_variance = 0.\n",
        "variance = 0.\n",
        "num_categories = 1\n",
        "for e in eigenvalues:\n",
        "  if(variance >= 0.95):\n",
        "    break;\n",
        "  category_variance += e\n",
        "  variance = category_variance/total_variance\n",
        "  num_categories += 1\n",
        "print(\"The optimal number of categories to perform PCA with is \" + str(num_categories))"
      ],
      "metadata": {
        "colab": {
          "base_uri": "https://localhost:8080/"
        },
        "id": "XDRbGA-iB6_Q",
        "outputId": "0416ce17-8afb-4ca5-bde1-b4c1dbad85dc"
      },
      "execution_count": null,
      "outputs": [
        {
          "output_type": "stream",
          "name": "stdout",
          "text": [
            "The optimal number of categories to perform PCA with is 62\n"
          ]
        }
      ]
    },
    {
      "cell_type": "markdown",
      "metadata": {
        "id": "zPuUoZxpMA6L"
      },
      "source": [
        "Perform PCA to obtain the most important dimensions to obtain transformed data"
      ]
    },
    {
      "cell_type": "code",
      "execution_count": null,
      "metadata": {
        "id": "cA0XjHHD-IIa"
      },
      "outputs": [],
      "source": [
        "pca = PCA(n_components=num_categories, svd_solver=\"randomized\").fit(train_pca_ds_init)\n",
        "train_pca_ds = pca.transform(train_pca_ds_init)\n",
        "validation_pca_ds = pca.transform(validation_pca_ds_init)"
      ]
    },
    {
      "cell_type": "markdown",
      "metadata": {
        "id": "RmVSPlJJMMmr"
      },
      "source": [
        "Create function to build SVM with hyperparameter optimization for ridge regression"
      ]
    },
    {
      "cell_type": "code",
      "execution_count": null,
      "metadata": {
        "id": "Rkk0IuxzDwQl"
      },
      "outputs": [],
      "source": [
        "def model_builder(hp):\n",
        "\n",
        "  #https://machinelearningmastery.com/how-to-reduce-overfitting-in-deep-learning-with-weight-regularization/#:~:text=The%20most%20common%20type%20of,range%20between%200%20and%200.1.\n",
        "  hp_l2_lambda = hp.Float(name='l2_lambda', min_value=0.0, max_value=0.1)\n",
        "  svm = Dense(1, kernel_regularizer=regularizers.l2(hp_l2_lambda), activation='linear');\n",
        "\n",
        "  model = models.Sequential([\n",
        "      svm\n",
        "  ]);\n",
        "\n",
        "  #hp_learning_rate = hp.Choice(name='learning_rate', values=[1e-2, 1e-3, 1e-4]);\n",
        "\n",
        "  model.compile(\n",
        "    optimizer=keras.optimizers.Adam(learning_rate=0.01),\n",
        "    loss='hinge',\n",
        "    metrics=['accuracy'],\n",
        "  )\n",
        "\n",
        "  return model;"
      ]
    },
    {
      "cell_type": "markdown",
      "metadata": {
        "id": "HNqpDqp5MUxw"
      },
      "source": [
        "Model tuner with Hyperband"
      ]
    },
    {
      "cell_type": "code",
      "execution_count": null,
      "metadata": {
        "id": "0Z35Soz6G1if"
      },
      "outputs": [],
      "source": [
        "tuner = kt.Hyperband(model_builder,\n",
        "                     objective='val_accuracy',\n",
        "                     max_epochs=50,\n",
        "                     directory='my_dir',\n",
        "                     project_name='neuroapoptosis_kt')"
      ]
    },
    {
      "cell_type": "code",
      "execution_count": null,
      "metadata": {
        "id": "7h-bbgt6HUN2"
      },
      "outputs": [],
      "source": [
        "es_hyper= EarlyStopping(monitor='val_accuracy', patience=5)"
      ]
    },
    {
      "cell_type": "markdown",
      "metadata": {
        "id": "_a01rcC1MZ9e"
      },
      "source": [
        "Train the hypermodel under the same conditions for the regular model"
      ]
    },
    {
      "cell_type": "code",
      "execution_count": null,
      "metadata": {
        "id": "b6R1q02nIs5S"
      },
      "outputs": [],
      "source": [
        "tuner.search(train_pca_ds, train_labels, validation_data=(validation_pca_ds, validation_labels), batch_size=20, epochs=50, callbacks=[es_hyper])\n",
        "\n",
        "# Get the optimal hyperparameters\n",
        "best_hps=tuner.get_best_hyperparameters(num_trials=1)[0]"
      ]
    },
    {
      "cell_type": "code",
      "execution_count": null,
      "metadata": {
        "colab": {
          "base_uri": "https://localhost:8080/"
        },
        "id": "AvXK16UIQjsC",
        "outputId": "7545e724-9b91-4213-dc1c-d9644c52d241"
      },
      "outputs": [
        {
          "output_type": "stream",
          "name": "stdout",
          "text": [
            "The optimized value for the l2 lambda hyperparamter is 0.09783548583709967\n"
          ]
        }
      ],
      "source": [
        "print('The optimized value for the l2 lambda hyperparamter is ' + str(best_hps.get('l2_lambda')))\n",
        "#print('The optimized value for the learning rate hyperparamter is ' + str(best_hps.get('learning_rate')))"
      ]
    },
    {
      "cell_type": "markdown",
      "metadata": {
        "id": "t9_GrBrZMftn"
      },
      "source": [
        "Construct the linear classifier and train it under the optimal hyperparameter"
      ]
    },
    {
      "cell_type": "code",
      "source": [
        "test_pca_ds_init = [];\n",
        "for image in test_ds:\n",
        "  # Reshape the input tensor to match the requirements of the VGG16 model\n",
        "  input_tensor = tf.reshape(image, (1, 224, 224, 3));\n",
        "  # Get the output of the VGG16 model\n",
        "  base_output = base_model.call(input_tensor);\n",
        "  # flatten the output into 1D space\n",
        "  flatten_output = flatten_layer.call(base_output);\n",
        "  test_pca_ds_init.append(tf.reshape(flatten_output, (tf.shape(flatten_output)[1])))\n",
        "test_pca_ds = pca.transform(test_pca_ds_init)"
      ],
      "metadata": {
        "id": "EGMuLiM5ZNZi"
      },
      "execution_count": null,
      "outputs": []
    },
    {
      "cell_type": "code",
      "execution_count": null,
      "metadata": {
        "colab": {
          "base_uri": "https://localhost:8080/"
        },
        "id": "ovbXleCqil41",
        "outputId": "e07bfe4b-2b0f-4fed-9a90-ed7af6e769cd"
      },
      "outputs": [
        {
          "output_type": "stream",
          "name": "stdout",
          "text": [
            "Epoch 1/50\n",
            "5/5 [==============================] - 1s 59ms/step - loss: 43.8977 - accuracy: 0.4835 - val_loss: 20.8367 - val_accuracy: 0.3750\n",
            "Epoch 2/50\n",
            "5/5 [==============================] - 0s 18ms/step - loss: 35.1611 - accuracy: 0.5714 - val_loss: 13.3268 - val_accuracy: 0.6250\n",
            "Epoch 3/50\n",
            "5/5 [==============================] - 0s 14ms/step - loss: 29.2708 - accuracy: 0.6154 - val_loss: 9.2136 - val_accuracy: 0.6250\n",
            "Epoch 4/50\n",
            "5/5 [==============================] - 0s 19ms/step - loss: 24.0809 - accuracy: 0.6264 - val_loss: 6.4280 - val_accuracy: 0.7500\n",
            "Epoch 5/50\n",
            "5/5 [==============================] - 0s 13ms/step - loss: 19.2397 - accuracy: 0.7033 - val_loss: 4.7669 - val_accuracy: 0.7500\n",
            "Epoch 6/50\n",
            "5/5 [==============================] - 0s 12ms/step - loss: 15.4530 - accuracy: 0.7692 - val_loss: 2.8360 - val_accuracy: 0.7500\n",
            "Epoch 7/50\n",
            "5/5 [==============================] - 0s 20ms/step - loss: 12.6011 - accuracy: 0.7802 - val_loss: 1.1916 - val_accuracy: 0.7500\n",
            "Epoch 8/50\n",
            "5/5 [==============================] - 0s 23ms/step - loss: 10.3599 - accuracy: 0.7582 - val_loss: 0.7911 - val_accuracy: 0.8750\n",
            "Epoch 9/50\n",
            "5/5 [==============================] - 0s 34ms/step - loss: 8.1212 - accuracy: 0.7473 - val_loss: 0.2736 - val_accuracy: 0.8750\n",
            "Epoch 10/50\n",
            "5/5 [==============================] - 0s 24ms/step - loss: 6.2788 - accuracy: 0.8132 - val_loss: 0.0624 - val_accuracy: 1.0000\n",
            "Epoch 11/50\n",
            "5/5 [==============================] - 0s 21ms/step - loss: 5.0093 - accuracy: 0.8022 - val_loss: 0.0592 - val_accuracy: 1.0000\n",
            "Epoch 12/50\n",
            "5/5 [==============================] - 0s 24ms/step - loss: 3.7608 - accuracy: 0.8571 - val_loss: 0.0560 - val_accuracy: 1.0000\n",
            "Epoch 13/50\n",
            "5/5 [==============================] - 0s 39ms/step - loss: 2.5407 - accuracy: 0.8901 - val_loss: 0.0546 - val_accuracy: 1.0000\n",
            "Epoch 14/50\n",
            "5/5 [==============================] - 0s 25ms/step - loss: 1.4914 - accuracy: 0.9341 - val_loss: 0.0538 - val_accuracy: 1.0000\n",
            "Epoch 15/50\n",
            "5/5 [==============================] - 0s 22ms/step - loss: 1.1333 - accuracy: 0.9780 - val_loss: 0.0526 - val_accuracy: 1.0000\n",
            "Epoch 16/50\n",
            "5/5 [==============================] - 0s 26ms/step - loss: 0.6965 - accuracy: 0.9670 - val_loss: 0.0525 - val_accuracy: 1.0000\n",
            "Epoch 17/50\n",
            "5/5 [==============================] - 0s 34ms/step - loss: 0.4358 - accuracy: 0.9560 - val_loss: 0.0524 - val_accuracy: 1.0000\n",
            "Epoch 18/50\n",
            "5/5 [==============================] - 0s 25ms/step - loss: 0.1977 - accuracy: 0.9670 - val_loss: 0.0526 - val_accuracy: 1.0000\n",
            "Epoch 19/50\n",
            "5/5 [==============================] - 0s 24ms/step - loss: 0.1671 - accuracy: 0.9780 - val_loss: 0.0530 - val_accuracy: 1.0000\n",
            "Epoch 20/50\n",
            "5/5 [==============================] - 0s 31ms/step - loss: 0.1452 - accuracy: 0.9890 - val_loss: 0.0533 - val_accuracy: 1.0000\n"
          ]
        }
      ],
      "source": [
        "linear_classifier = tuner.hypermodel.build(best_hps)\n",
        "\n",
        "es = EarlyStopping(monitor='val_accuracy', patience=10,  restore_best_weights=True)\n",
        "\n",
        "linear_classifier.fit(train_pca_ds, train_labels, validation_data=(validation_pca_ds, validation_labels), batch_size=20, epochs=50, callbacks=[es]);"
      ]
    },
    {
      "cell_type": "code",
      "source": [
        "score = linear_classifier.evaluate(test_pca_ds, test_labels)"
      ],
      "metadata": {
        "colab": {
          "base_uri": "https://localhost:8080/"
        },
        "id": "OeLz7IPtIGQR",
        "outputId": "92c90d1d-4f63-4314-8029-ef6480b1dcfd"
      },
      "execution_count": null,
      "outputs": [
        {
          "output_type": "stream",
          "name": "stdout",
          "text": [
            "1/1 [==============================] - 0s 34ms/step - loss: 0.1943 - accuracy: 1.0000\n"
          ]
        }
      ]
    },
    {
      "cell_type": "markdown",
      "metadata": {
        "id": "4icsMI0_mFTo"
      },
      "source": [
        "## Calculate layer BSIs"
      ]
    },
    {
      "cell_type": "markdown",
      "metadata": {
        "id": "l7VVhPk163vI"
      },
      "source": [
        "*See* what layers are within the VGG16 model"
      ]
    },
    {
      "cell_type": "code",
      "execution_count": null,
      "metadata": {
        "id": "37qNANkkbPDY",
        "colab": {
          "base_uri": "https://localhost:8080/"
        },
        "outputId": "c4eb806e-ed8f-4447-8250-65def0924136"
      },
      "outputs": [
        {
          "output_type": "execute_result",
          "data": {
            "text/plain": [
              "['input_1',\n",
              " 'block1_conv1',\n",
              " 'block1_conv2',\n",
              " 'block1_pool',\n",
              " 'block2_conv1',\n",
              " 'block2_conv2',\n",
              " 'block2_pool',\n",
              " 'block3_conv1',\n",
              " 'block3_conv2',\n",
              " 'block3_conv3',\n",
              " 'block3_pool',\n",
              " 'block4_conv1',\n",
              " 'block4_conv2',\n",
              " 'block4_conv3',\n",
              " 'block4_pool',\n",
              " 'block5_conv1',\n",
              " 'block5_conv2',\n",
              " 'block5_conv3',\n",
              " 'block5_pool']"
            ]
          },
          "metadata": {},
          "execution_count": 58
        }
      ],
      "source": [
        "list(map(lambda x: x.name, base_model.layers))"
      ]
    },
    {
      "cell_type": "markdown",
      "metadata": {
        "id": "39noA4qd7Bg9"
      },
      "source": [
        "Get the number of neurons in the target layer"
      ]
    },
    {
      "cell_type": "code",
      "execution_count": null,
      "metadata": {
        "id": "7-s_4-DUoBK3",
        "colab": {
          "base_uri": "https://localhost:8080/"
        },
        "outputId": "dd5b0fbe-0262-4a66-acb8-880a9ad5cc9b"
      },
      "outputs": [
        {
          "output_type": "stream",
          "name": "stdout",
          "text": [
            "100352\n"
          ]
        }
      ],
      "source": [
        "num_neurons = 1;\n",
        "layer_shape = base_model.get_layer('block5_conv3').output_shape;\n",
        "for i in range(len(layer_shape)):\n",
        "  if i != 0:\n",
        "    num_neurons *= layer_shape[i];\n",
        "print(num_neurons);"
      ]
    },
    {
      "cell_type": "markdown",
      "metadata": {
        "id": "H8056ens7EZf"
      },
      "source": [
        "Find the Mean Body Firing Rate for each neuron in the target layer"
      ]
    },
    {
      "cell_type": "code",
      "execution_count": null,
      "metadata": {
        "id": "TL9cnyWK7-FM",
        "colab": {
          "base_uri": "https://localhost:8080/"
        },
        "outputId": "96f5e092-ed0d-47ba-db9a-2c85928f4fbd"
      },
      "outputs": [
        {
          "output_type": "stream",
          "name": "stdout",
          "text": [
            "[0. 0. 0. ... 0. 0. 0.]\n"
          ]
        }
      ],
      "source": [
        "# Resizing the images\n",
        "bodies = tf.image.resize(bodies, (224,224));\n",
        "# bodies = preprocess_input(bodies);\n",
        "\n",
        "# Create array to store information on the mean firing rates of each neuron in the layer\n",
        "bodies_activations = np.zeros(num_neurons);\n",
        "\n",
        "# Loop through all body stimuli\n",
        "for i in range(len(bodies)):\n",
        "  # Find activations of last vgg16 layer\n",
        "  intermediate_output = tf.keras.Model(base_model.get_layer('input_1').input, base_model.get_layer('block5_conv3').output);\n",
        "  extracted = intermediate_output(bodies[i][None, ...]);\n",
        "  # Reshape the activations into 1D numpy array\n",
        "  extracted = tf.reshape(extracted, (num_neurons)).numpy();\n",
        "  # Add activations together\n",
        "  bodies_activations = bodies_activations + extracted;\n",
        "\n",
        "# Divide by total number of stimuli to get the average activations\n",
        "bodies_activations = bodies_activations / len(bodies);\n",
        "print(bodies_activations);"
      ]
    },
    {
      "cell_type": "markdown",
      "metadata": {
        "id": "RCei7B4C7QC3"
      },
      "source": [
        "Find the Mean Nonbody Firing Rate for each neuron in the target layer"
      ]
    },
    {
      "cell_type": "code",
      "execution_count": null,
      "metadata": {
        "id": "7s9TUce0j6oy",
        "colab": {
          "base_uri": "https://localhost:8080/"
        },
        "outputId": "5e80265f-21f0-4dcc-d376-ab00410d2722"
      },
      "outputs": [
        {
          "output_type": "stream",
          "name": "stdout",
          "text": [
            "[0. 0. 0. ... 0. 0. 0.]\n"
          ]
        }
      ],
      "source": [
        "# Resizing the images\n",
        "nonbodies = tf.image.resize(nonbodies, (224,224));\n",
        "# nonbodies = preprocess_input(nonbodies);\n",
        "\n",
        "# Create array to store information on the mean firing rates of each neuron in the layer\n",
        "nonbodies_activations = np.zeros(num_neurons);\n",
        "\n",
        "# Loop through all nonbody stimuli\n",
        "for i in range(len(nonbodies)):\n",
        "  # Find activations of last vgg16 layer\n",
        "  intermediate_output = tf.keras.Model(base_model.get_layer('input_1').input, base_model.get_layer('block5_conv3').output);\n",
        "  extracted = intermediate_output(nonbodies[i][None, ...]);\n",
        "  # Reshape the activations into 1D numpy array\n",
        "  extracted = tf.reshape(extracted, (num_neurons)).numpy();\n",
        "  # Add activations together\n",
        "  nonbodies_activations = nonbodies_activations + extracted;\n",
        "\n",
        "# Divide by total number of stimuli to get the average activations\n",
        "nonbodies_activations = nonbodies_activations / len(nonbodies);\n",
        "print(nonbodies_activations);"
      ]
    },
    {
      "cell_type": "markdown",
      "metadata": {
        "id": "xvlA7T7a7WRi"
      },
      "source": [
        "Generate Grayscale Images for Baseline"
      ]
    },
    {
      "cell_type": "code",
      "execution_count": null,
      "metadata": {
        "id": "gMEgWqbrtCxR"
      },
      "outputs": [],
      "source": [
        "# Grayscale images\n",
        "grayscale_images = [];\n",
        "for gray in range(255):\n",
        "  grayscale_images.append(gray * np.ones((224,224,3)));"
      ]
    },
    {
      "cell_type": "markdown",
      "metadata": {
        "id": "I1eDndYR7Z-Q"
      },
      "source": [
        "Find the Baseline Firing Rate for each neuron in the target layer"
      ]
    },
    {
      "cell_type": "code",
      "execution_count": null,
      "metadata": {
        "id": "JamDlP8ltxxc",
        "colab": {
          "base_uri": "https://localhost:8080/"
        },
        "outputId": "2863c79b-9381-4f98-bac3-6a1751695e9b"
      },
      "outputs": [
        {
          "output_type": "stream",
          "name": "stdout",
          "text": [
            "[0.0002834  0.         0.         ... 0.         0.01370914 0.        ]\n"
          ]
        }
      ],
      "source": [
        "# Create array to store information on the baseline activations of each neuron in the layer\n",
        "baseline_activations = np.zeros(num_neurons);\n",
        "\n",
        "# Loop through all grayscale stimuli\n",
        "for i in range(len(grayscale_images)):\n",
        "  # Find activations of the last vgg16 layer\n",
        "  intermediate_output = tf.keras.Model(base_model.get_layer('input_1').input, base_model.get_layer('block5_conv3').output);\n",
        "  extracted = intermediate_output(grayscale_images[i][None, ...]);\n",
        "  # Reshape the activations into 1D numpy array\n",
        "  extracted = tf.reshape(extracted, (num_neurons)).numpy();\n",
        "  # Add activations together\n",
        "  baseline_activations = baseline_activations + extracted;\n",
        "\n",
        "# Divide by total number of stimuli to get the average activations\n",
        "baseline_activations = baseline_activations / len(grayscale_images);\n",
        "print(baseline_activations);"
      ]
    },
    {
      "cell_type": "markdown",
      "metadata": {
        "id": "7bVtl6jz7euM"
      },
      "source": [
        "Find the Net Body and Nonbody Firing Rates in the target layer"
      ]
    },
    {
      "cell_type": "code",
      "execution_count": null,
      "metadata": {
        "id": "d12acUtfw73S"
      },
      "outputs": [],
      "source": [
        "# Net Firing Rates\n",
        "net_body_firing_rates = bodies_activations - baseline_activations;\n",
        "net_nonbody_firing_rates = nonbodies_activations - baseline_activations;"
      ]
    },
    {
      "cell_type": "markdown",
      "metadata": {
        "id": "BMms6yvd7m7Z"
      },
      "source": [
        "Calculate the Body Selectivity Index (BSI) for each neuron in the target layer"
      ]
    },
    {
      "cell_type": "code",
      "execution_count": null,
      "metadata": {
        "id": "CbBWbs16xQuR",
        "colab": {
          "base_uri": "https://localhost:8080/"
        },
        "outputId": "17604434-1cc2-47d6-a9cb-6debad8adb25"
      },
      "outputs": [
        {
          "output_type": "stream",
          "name": "stdout",
          "text": [
            "[0. 0. 0. ... 0. 0. 0.]\n"
          ]
        }
      ],
      "source": [
        "# BSIs\n",
        "BSIs = (net_body_firing_rates - net_nonbody_firing_rates);\n",
        "denom = (abs(net_body_firing_rates) + abs(net_nonbody_firing_rates));\n",
        "for i in range(len(BSIs)):\n",
        "  # Check for divisibility by zero\n",
        "  if denom[i] != 0:\n",
        "    BSIs[i] = BSIs[i]/denom[i];\n",
        "  else:\n",
        "    # Equally selective to both bodies and nonbodies\n",
        "    BSIs[i] = 0\n",
        "print(BSIs);"
      ]
    },
    {
      "cell_type": "code",
      "execution_count": null,
      "metadata": {
        "id": "UIB3snL8P5XE",
        "colab": {
          "base_uri": "https://localhost:8080/",
          "height": 449
        },
        "outputId": "e947c213-904f-4c3f-f76b-0557a70243eb"
      },
      "outputs": [
        {
          "output_type": "display_data",
          "data": {
            "text/plain": [
              "<Figure size 640x480 with 1 Axes>"
            ],
            "image/png": "[encoded data removed]"
          },
          "metadata": {}
        }
      ],
      "source": [
        "plt.hist(BSIs, 6, range=(-1, 1));\n",
        "plt.ylabel(\"frequency\");\n",
        "plt.xlabel(\"BSI\");\n",
        "plt.show();"
      ]
    },
    {
      "cell_type": "markdown",
      "metadata": {
        "id": "utRpztOf6G2m"
      },
      "source": [
        "## Deletion Procedure"
      ]
    },
    {
      "cell_type": "markdown",
      "metadata": {
        "id": "w7yHlpCYAN8A"
      },
      "source": [
        "Define removal rates"
      ]
    },
    {
      "cell_type": "code",
      "execution_count": null,
      "metadata": {
        "id": "Kw3ogL6GAQzL"
      },
      "outputs": [],
      "source": [
        "removal_rates = np.arange(0, 1.1, 0.1);"
      ]
    },
    {
      "cell_type": "markdown",
      "metadata": {
        "id": "q5KwsmLhAaCw"
      },
      "source": [
        "Define threshold index and the total number of neurons in target layer above that threshold index"
      ]
    },
    {
      "cell_type": "code",
      "execution_count": null,
      "metadata": {
        "id": "BSHwF5cSAcVB",
        "colab": {
          "base_uri": "https://localhost:8080/"
        },
        "outputId": "b7db14d1-03b3-4cd8-c63c-8913744eb3df"
      },
      "outputs": [
        {
          "output_type": "stream",
          "name": "stdout",
          "text": [
            "There are 21667 neurons, or a proportion of 0.2159099968112245 above the BSI threshold of 0.33\n"
          ]
        }
      ],
      "source": [
        "BSI_threshold = 0.33;\n",
        "total_num_above_BSI_threshold = 0;\n",
        "for b in BSIs:\n",
        "  if b >= BSI_threshold or b <= -1*BSI_threshold:\n",
        "    total_num_above_BSI_threshold += 1;\n",
        "\n",
        "print(\"There are \" + str(total_num_above_BSI_threshold) + \" neurons, or a proportion of \" + str(total_num_above_BSI_threshold/num_neurons) + \" above the BSI threshold of \" + str(BSI_threshold));"
      ]
    },
    {
      "cell_type": "markdown",
      "metadata": {
        "id": "28gw62BgAmVo"
      },
      "source": [
        "Get Data from deletions"
      ]
    },
    {
      "cell_type": "code",
      "execution_count": null,
      "metadata": {
        "id": "RrwhH8zp1NV5"
      },
      "outputs": [],
      "source": [
        "# Function for cloning and cutting model at a particular layer\n",
        "def cut_model(model, cut_layer_name):\n",
        "    clone = keras.models.clone_model(model)\n",
        "    clone.set_weights(model.get_weights())\n",
        "    cut_layer = clone.get_layer(name=cut_layer_name) #.get_layer(name='vgg16')\n",
        "    model_a = Model(clone.inputs, cut_layer.output)\n",
        "    model_b = Model(\n",
        "        keras.Input(tensor=cut_layer.output), clone.outputs\n",
        "    )\n",
        "    return model_a, model_b"
      ]
    },
    {
      "cell_type": "code",
      "execution_count": null,
      "metadata": {
        "id": "7kBYCwqB6Jpe",
        "colab": {
          "base_uri": "https://localhost:8080/"
        },
        "outputId": "56fd7e76-c584-4070-de99-f24470dd367a"
      },
      "outputs": [
        {
          "output_type": "stream",
          "name": "stdout",
          "text": [
            "Removal Rate for 0% Complete\n",
            "Removal Rate for 10% Complete\n",
            "Removal Rate for 20% Complete\n",
            "Removal Rate for 30% Complete\n",
            "Removal Rate for 40% Complete\n",
            "Removal Rate for 50% Complete\n",
            "Removal Rate for 60% Complete\n",
            "Removal Rate for 70% Complete\n",
            "Removal Rate for 80% Complete\n",
            "Removal Rate for 90% Complete\n",
            "Removal Rate for 100% Complete\n"
          ]
        }
      ],
      "source": [
        "# Store data for each removal rate\n",
        "data = [];\n",
        "\n",
        "# Cut the base model by the target layer\n",
        "intervention, termination = cut_model(base_model, 'block5_conv3');\n",
        "\n",
        "# Loop through each removal rate\n",
        "for rr in removal_rates:\n",
        "  removal_data = np.zeros((100,2));\n",
        "  # Loop through each trial\n",
        "  for trial in range(100): #100 trials\n",
        "\n",
        "    # Count the number of correct predictions made by the model\n",
        "    correct_pred = 0;\n",
        "\n",
        "    # Choose indices to delete\n",
        "    deletion_indices = np.random.choice(num_neurons, int(rr*num_neurons), replace=False);\n",
        "    # Count the number of deleted activations above the BSI threshold\n",
        "    count_act_above_threshold = 0;\n",
        "    for d_idx in deletion_indices:\n",
        "        # Add to counter if the BSI of the about-to-be-deleted neuron is above the threshold\n",
        "        if BSIs[d_idx] >= BSI_threshold or BSIs[d_idx] <= -1*BSI_threshold:\n",
        "          count_act_above_threshold += 1;\n",
        "\n",
        "    # Loop through testing dataset\n",
        "    for stim_idx in range(len(test_ds)):\n",
        "\n",
        "      # Feed stimulus through until the target layer\n",
        "      extracted = intervention(test_ds[stim_idx][None, ...]);\n",
        "      # Record the original shape of the activations\n",
        "      original_shape = tuple(tf.shape(extracted).numpy());\n",
        "      # Convert activations to 1D numpy array\n",
        "      extracted = tf.reshape(extracted, (num_neurons)).numpy();\n",
        "\n",
        "      # Delete all randomly selected neurons\n",
        "      for d_idx in deletion_indices:\n",
        "        # Delete the activation of the neuron\n",
        "        extracted[d_idx] = 0;\n",
        "\n",
        "      # Convert activations back to tensor format\n",
        "      extracted = tf.convert_to_tensor(extracted);\n",
        "      # Reshape the tensor back to the original format\n",
        "      extracted = tf.reshape(extracted, original_shape);\n",
        "\n",
        "      # Finish the feedforward pass through the vgg16 layer\n",
        "      vgg_prediction = termination(extracted);\n",
        "\n",
        "      # Flatten the prediction\n",
        "      vgg_prediction = flatten_layer.call(vgg_prediction)\n",
        "\n",
        "      # Apply PCA to the prediction\n",
        "      vgg_prediction = pca.transform(vgg_prediction)\n",
        "\n",
        "      # Make the prediction based on the output of the vgg16 model\n",
        "      prediction = linear_classifier(vgg_prediction).numpy()[0];\n",
        "      # Get the actual results\n",
        "      actual = test_labels[stim_idx];\n",
        "\n",
        "      # Check for a correct prediction\n",
        "      #if (prediction[0] - prediction[1] > 0 and actual[0] == 1.) or (prediction[0] - prediction[1] < 0 and actual[1] == 1.):\n",
        "      if (prediction[0] >= 0.5 and actual == 1.) or (prediction[0] < 0.5 and actual == 0.):\n",
        "        # Increase correct answer counter by 1\n",
        "        correct_pred += 1;\n",
        "\n",
        "      #print(\"prediction: \" + str(prediction) + \" | actual: \" + str(actual));\n",
        "\n",
        "    # Calculate the thresholded_BSI_rate and accuracy of the model\n",
        "    thresholded_BSI_rate = (total_num_above_BSI_threshold - count_act_above_threshold) / ((num_neurons - int(rr*num_neurons)) if num_neurons > int(rr*num_neurons) else 1);\n",
        "    accuracy = correct_pred / (len(test_ds));\n",
        "\n",
        "    #print(\"Removal Rate \" + str(int(rr*100)) + \"% | Trial #\" + str(trial + 1) + \" | thresholded_BSI_rate = \" + str(thresholded_BSI_rate) + \" , accuracy = \" + str(accuracy));\n",
        "\n",
        "    # Add data to removal_data\n",
        "    removal_data[trial][0] = thresholded_BSI_rate;\n",
        "    removal_data[trial][1] = accuracy;\n",
        "  # Append data from removal rate\n",
        "  data.append(removal_data);\n",
        "  print(\"Removal Rate for \" + str(int(rr*100)) + \"% Complete\");"
      ]
    },
    {
      "cell_type": "markdown",
      "metadata": {
        "id": "MOKcGdXqZq27"
      },
      "source": [
        "## Analysis"
      ]
    },
    {
      "cell_type": "markdown",
      "metadata": {
        "id": "elCYSFBuQ_6h"
      },
      "source": [
        "Find the mean accuracies of the model"
      ]
    },
    {
      "cell_type": "code",
      "execution_count": null,
      "metadata": {
        "id": "6HAVskKZBpHj"
      },
      "outputs": [],
      "source": [
        "removal_accuracies = []\n",
        "for r_dat in data:\n",
        "  avg_accuracy = 0;\n",
        "  for (t_BSI_r, acc) in r_dat:\n",
        "    avg_accuracy += acc;\n",
        "  avg_accuracy = avg_accuracy / len(r_dat);\n",
        "  removal_accuracies.append(avg_accuracy);"
      ]
    },
    {
      "cell_type": "markdown",
      "metadata": {
        "id": "VgzlfT4GRDVm"
      },
      "source": [
        "Plot the mean accuracies against the removal rates"
      ]
    },
    {
      "cell_type": "code",
      "execution_count": null,
      "metadata": {
        "id": "U31WXsLgOG36",
        "colab": {
          "base_uri": "https://localhost:8080/",
          "height": 449
        },
        "outputId": "c1d1036c-f03d-4b21-99d7-da4bc5d0d754"
      },
      "outputs": [
        {
          "output_type": "display_data",
          "data": {
            "text/plain": [
              "<Figure size 640x480 with 1 Axes>"
            ],
            "image/png": "[encoded data removed]"
          },
          "metadata": {}
        }
      ],
      "source": [
        "plt.plot(removal_rates, removal_accuracies);\n",
        "plt.xlabel(\"Removal Rates\");\n",
        "plt.ylabel(\"Mean Accuracies\");\n",
        "plt.show();"
      ]
    },
    {
      "cell_type": "markdown",
      "metadata": {
        "id": "ROICQ0euRGVQ"
      },
      "source": [
        "Store data in google sheet"
      ]
    },
    {
      "cell_type": "code",
      "execution_count": null,
      "metadata": {
        "id": "DH7Vjyx1Pnfh"
      },
      "outputs": [],
      "source": [
        "sheet_name = 'neuroapoptosis_pca_data_10_date_8_14_2023';\n",
        "\n",
        "sh = gc.create(sheet_name);\n",
        "\n",
        "# Open our new sheet and add some data.\n",
        "worksheet = gc.open(sheet_name).sheet1\n",
        "\n",
        "worksheet.add_rows(10000);\n",
        "\n",
        "row = 2;\n",
        "for r_idx in range(len(data)):\n",
        "  cell_list = worksheet.range('A' + str(row) + ':A' + str(row + len(data[r_idx])));\n",
        "  for cell_idx in range(len(data[r_idx])):\n",
        "    cell_list[cell_idx].value = data[r_idx][cell_idx][0];\n",
        "  worksheet.update_cells(cell_list);\n",
        "  cell_list = worksheet.range('B' + str(row) + ':B' + str(row + len(data[r_idx])));\n",
        "  for cell_idx in range(len(data[r_idx])):\n",
        "    cell_list[cell_idx].value = data[r_idx][cell_idx][1];\n",
        "  worksheet.update_cells(cell_list);\n",
        "\n",
        "  row += len(data[r_idx]) + 2;"
      ]
    },
    {
      "cell_type": "markdown",
      "metadata": {
        "id": "EDPEFemgmU0p"
      },
      "source": [
        "**Sources**\n",
        "\n",
        "https://www.tensorflow.org/guide/keras/train_and_evaluate\n",
        "\n",
        "https://www.learndatasci.com/tutorials/hands-on-transfer-learning-keras/\n",
        "\n",
        "https://www.learndatasci.com/tutorials/convolutional-neural-networks-image-classification/#UsingImageDataGeneratorfortraining\n",
        "\n",
        "https://towardsdatascience.com/transfer-learning-with-vgg16-and-keras-50ea161580b4\n",
        "\n",
        "https://github.com/sudhir2016/Google-Colab-3/blob/master/VGG16.ipynb\n",
        "\n",
        "https://towardsdatascience.com/a-comprehensive-guide-to-convolutional-neural-networks-the-eli5-way-3bd2b1164a53\n",
        "\n",
        "https://stackoverflow.com/questions/66571756/how-can-you-get-the-activations-of-the-neurons-during-an-inference-in-tensorflow\n",
        "\n",
        "https://gist.github.com/martinsbruveris/1ce43d4fe36f40e29e1f69fd036f1626"
      ]
    }
  ],
  "metadata": {
    "colab": {
      "provenance": [],
      "gpuType": "V100",
      "include_colab_link": true
    },
    "kernelspec": {
      "display_name": "Python 3",
      "name": "python3"
    },
    "language_info": {
      "name": "python"
    },
    "accelerator": "GPU"
  },
  "nbformat": 4,
  "nbformat_minor": 0
}